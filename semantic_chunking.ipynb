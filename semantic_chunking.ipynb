{
 "cells": [
  {
   "cell_type": "code",
   "execution_count": null,
   "metadata": {},
   "outputs": [],
   "source": [
    "!pip install -r requirements.txt"
   ]
  },
  {
   "cell_type": "code",
   "execution_count": null,
   "metadata": {},
   "outputs": [],
   "source": [
    "source_document = <<source_document_path>>\n",
    "\n",
    "# Document Intelligence connection\n",
    "document_intelligence_endpoint = <<di_endpint>>\n",
    "document_intelligence_key = <<di_key>>\n",
    "\n",
    "# AOAI connection\n",
    "openai_api_base = <<openai_api_base>>\n",
    "openai_api_key = <<openai_api_key>>\n",
    "openai_api_type = <<openai_api_type>>\n",
    "openai_api_version = <<openai_api_version>>\n",
    "openai_engine = <<openai_engine>>"
   ]
  },
  {
   "cell_type": "code",
   "execution_count": null,
   "metadata": {},
   "outputs": [],
   "source": [
    "from extraction.document_intelligence_loader import DocumentIntelligenceLoader \n",
    "from chunking.semantic_chunking_splitter import SemanticChunkingSplitter\n",
    "\n",
    "# load document\n",
    "print(\"Start loading\")\n",
    "document_intelligence_loader = DocumentIntelligenceLoader(document_intelligence_endpoint, document_intelligence_key)\n",
    "paragraphs = document_intelligence_loader.load(source_document).paragraphs\n",
    "\n",
    "# chunking\n",
    "print(\"Start chunking\")\n",
    "semantic_chunking_splitter = SemanticChunkingSplitter(max_chunk_size=2000, openai_api_base=openai_api_base, openai_api_key=openai_api_key, openai_api_type=openai_api_type, openai_api_version=openai_api_version, openai_engine=openai_engine)\n",
    "semantic_chunks = semantic_chunking_splitter.split(list(map(lambda x: {\"role\": x.role, \"content\": x.content}, paragraphs)))\n",
    "\n",
    "print(semantic_chunks)"
   ]
  }
 ],
 "metadata": {
  "kernelspec": {
   "display_name": "Python 3",
   "language": "python",
   "name": "python3"
  },
  "language_info": {
   "codemirror_mode": {
    "name": "ipython",
    "version": 3
   },
   "file_extension": ".py",
   "mimetype": "text/x-python",
   "name": "python",
   "nbconvert_exporter": "python",
   "pygments_lexer": "ipython3",
   "version": "3.10.13"
  }
 },
 "nbformat": 4,
 "nbformat_minor": 2
}
